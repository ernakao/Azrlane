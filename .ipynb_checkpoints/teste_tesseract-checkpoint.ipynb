{
 "cells": [
  {
   "cell_type": "code",
   "execution_count": 18,
   "id": "2ee9fa84",
   "metadata": {},
   "outputs": [],
   "source": [
    "import pytesseract\n",
    "import time\n",
    "from PIL import Image, ImageDraw\n",
    "import util_gui\n",
    "import glob\n",
    "import os\n",
    "import time\n",
    "import cv2 as cv\n",
    "import numpy as np\n",
    "import pandas as pd\n",
    "import pyautogui as gui\n",
    "import re"
   ]
  },
  {
   "cell_type": "code",
   "execution_count": 2,
   "id": "204b0a62",
   "metadata": {},
   "outputs": [],
   "source": [
    "pytesseract.pytesseract.tesseract_cmd = 'C:\\Program Files\\Tesseract-OCR\\Tesseract'  \n",
    "df_image = pd.read_csv(os.path.join(os.getcwd(),r\"CSVs\\data_images.csv\"),index_col = 'Unnamed: 0')"
   ]
  },
  {
   "cell_type": "code",
   "execution_count": 3,
   "id": "a62614a5",
   "metadata": {},
   "outputs": [],
   "source": [
    "def drawing_rec(findall,image):\n",
    "    #image é do PIL Image.open\n",
    "    #findall é o objeto do return do gui.locateall\n",
    "    image_copy = image.copy()\n",
    "    if(isinstance(findall,list)):\n",
    "        for i in range(len(findall)):\n",
    "            x1_f = findall[i][0]\n",
    "            x2_f = findall[i][2]\n",
    "            y1_f = findall[i][1]\n",
    "            y2_f = findall[i][3]\n",
    "            ImageDraw.Draw(image_copy).rectangle([x1_f,y1_f,x2_f,y2_f],fill=None,outline=\"red\")\n",
    "    else:\n",
    "        for i in range(len(findall)):\n",
    "            x1_f = findall[i].left\n",
    "            x2_f = findall[i].left+findall[i].width\n",
    "            y1_f = findall[i].top\n",
    "            y2_f = findall[i].top+findall[i].height\n",
    "            ImageDraw.Draw(image_copy).rectangle([x1_f,y1_f,x2_f,y2_f],fill=None,outline=\"red\")\n",
    "    image_copy.show()\n",
    "    return None"
   ]
  },
  {
   "cell_type": "code",
   "execution_count": 4,
   "id": "850f724d",
   "metadata": {
    "scrolled": false
   },
   "outputs": [
    {
     "name": "stdout",
     "output_type": "stream",
     "text": [
      "[['15291', '13725'], ['13913', '13904'], ['13265', '11602'], ['11624', '12867']]\n"
     ]
    }
   ],
   "source": [
    "image_gen = Image.open(df_image['Path']['PVP_gen'])\n",
    "image_lv = Image.open(df_image['Path']['PVP_lv'])\n",
    "image_lv_triangle = Image.open(df_image['Path']['PVP_lv_triangle'])\n",
    "\n",
    "fp_pos = []\n",
    "lv_image = []\n",
    "lv_triangle = []\n",
    "lv_lista = []\n",
    "lv_pos = []\n",
    "fp_lista = []\n",
    "re_pattern_lvl = \"([\\w]*[.])|([a-zA-Z]*)\"\n",
    "util_gui.wait(image_gen)\n",
    "pvp = gui.screenshot()\n",
    "# pvp = Image.open(\"C:\\\\Users\\\\EricR\\\\Desktop\\\\exemplo_pvp_2.png\")\n",
    "# pvp = Image.open(\"C:\\\\Users\\\\EricR\\\\Desktop\\\\exemplo_pvp.png\")\n",
    "for i ,coords in enumerate(gui.locateAll(image_gen,pvp,confidence = 0.85,region = (0,0,1080,420))):\n",
    "    x,y,w,h = coords\n",
    "    x,y,w,h = x-2,y+h,x+55,y+h+60\n",
    "    fp_pos.append([x,y,w,h])\n",
    "    string = pytesseract.image_to_string(pvp.crop(fp_pos[i]))\n",
    "    fp_lista.append(string.splitlines())\n",
    "print(fp_lista)\n",
    "\n",
    "lv_image = list(gui.locateAll(image_lv,pvp,confidence = 0.95,region = (0,0,1080,420)))\n",
    "lv_triangle = list(gui.locateAll(image_lv_triangle,pvp,confidence = 0.90,region = (0,0,1080,420)))\n",
    "\n",
    "for i in range(4):\n",
    "    x1 = lv_image[i].left\n",
    "    y1 = lv_image[i].top+1\n",
    "    x2 = lv_triangle[i].left+3\n",
    "    y2 = lv_image[i].top + lv_image[i].height+2\n",
    "    string = pytesseract.image_to_string(pvp.crop([x1,y1,x2,y2])).splitlines()[0]\n",
    "    lv_pos.append([x1,y1,x2,y2])\n",
    "    \n",
    "    lv_lista.append(re.sub(re_pattern_lvl,'',string))\n",
    "    lv_lista = list(map(int,lv_lista))"
   ]
  },
  {
   "cell_type": "code",
   "execution_count": 5,
   "id": "99bdafda",
   "metadata": {
    "scrolled": true
   },
   "outputs": [],
   "source": [
    "#Check for fp_lista integrity(i.e. possui 4 membros, cada um com 2 valores)\n",
    "#Check for 4 membros\n",
    "fp_lista_media = []\n",
    "if len(fp_lista) != 4:\n",
    "    print(f\"{len(fp_lista)} membros apenas\")\n",
    "for i in fp_lista:\n",
    "    #Check for both Main and Vanguard values (deve possuir 2)\n",
    "    if len(i) != 2:\n",
    "        print(f\"Nao possui ambos valroes de Main e Vanguard\")\n",
    "    #Gera valores medios de fp\n",
    "    fp_lista_media.append(sum([int(x) for x in i])//2)"
   ]
  },
  {
   "cell_type": "code",
   "execution_count": 6,
   "id": "24633e81",
   "metadata": {},
   "outputs": [],
   "source": [
    "chosen_player = 0\n",
    "if fp_lista_media[0] < 17000 and lv_lista[0] > 120:\n",
    "    chosen_player = 0\n",
    "elif fp_lista_media[1] < 17000 and lv_lista[1] > 120:\n",
    "    chosen_player = 1"
   ]
  },
  {
   "cell_type": "code",
   "execution_count": 7,
   "id": "81cd6e09",
   "metadata": {},
   "outputs": [],
   "source": [
    "time.sleep(1)\n",
    "gui.click(fp_pos[chosen_player][0],fp_pos[chosen_player][1],button='left')"
   ]
  },
  {
   "cell_type": "code",
   "execution_count": 32,
   "id": "8dc8f6e8",
   "metadata": {},
   "outputs": [],
   "source": [
    "a = np.array([x,y,w,h])"
   ]
  },
  {
   "cell_type": "code",
   "execution_count": 41,
   "id": "c1ab43e0",
   "metadata": {},
   "outputs": [],
   "source": [
    "df_image.at['Enhance_fill','Region'] = ['oi','oi']"
   ]
  },
  {
   "cell_type": "code",
   "execution_count": 42,
   "id": "1e78a0d4",
   "metadata": {},
   "outputs": [
    {
     "data": {
      "text/plain": [
       "Enhance_confirme_enhanceable                NaN\n",
       "Enhance_confirm_enhanced                    NaN\n",
       "Enhance_disassemble                         NaN\n",
       "Enhance_enhance                             NaN\n",
       "Enhance_enhanceable                         NaN\n",
       "Enhance_enhance_page                        NaN\n",
       "Enhance_fill                           [oi, oi]\n",
       "Enhance_sort                                NaN\n",
       "Enhance_tap_to_continue_disassemble         NaN\n",
       "OpS_battle                                  NaN\n",
       "OpS_collect_ops                             NaN\n",
       "OpS_friend                                  NaN\n",
       "OpS_guild                                   NaN\n",
       "OpS_helena_meta                             NaN\n",
       "OpS_info_analysis_renown_meta               NaN\n",
       "OpS_renown_meta                             NaN\n",
       "OpS_request_support                         NaN\n",
       "OpS_start_battle                            NaN\n",
       "OpS_world                                   NaN\n",
       "PVP_confirm                                 NaN\n",
       "PVP_continue_after_battle                   NaN\n",
       "PVP_continue_merit                          NaN\n",
       "PVP_exercises                               NaN\n",
       "PVP_exercise_pvp                            NaN\n",
       "PVP_gen                                     NaN\n",
       "PVP_lv                                      NaN\n",
       "PVP_lv_triangle                             NaN\n",
       "PVP_sortie                                  NaN\n",
       "PVP_start                                    oi\n",
       "Retire_confirm                              NaN\n",
       "Retire_confirm_disassemble                  NaN\n",
       "Retire_confirm_elite                        NaN\n",
       "Retire_disassemble                          NaN\n",
       "Retire_elite                                NaN\n",
       "Retire_no_retire                            NaN\n",
       "Retire_quick_retire                         NaN\n",
       "Retire_return                               NaN\n",
       "Retire_sort                                 NaN\n",
       "Retire_tap                                  NaN\n",
       "Stage_12_2_hard                             NaN\n",
       "Stage_affinity                              NaN\n",
       "Stage_auto_search                           NaN\n",
       "Stage_continue                              NaN\n",
       "Stage_stage1                                NaN\n",
       "Stage_stage_2                               NaN\n",
       "Name: Region, dtype: object"
      ]
     },
     "execution_count": 42,
     "metadata": {},
     "output_type": "execute_result"
    }
   ],
   "source": [
    "df_image['Region']"
   ]
  },
  {
   "cell_type": "code",
   "execution_count": 19,
   "id": "7e3be3d6",
   "metadata": {},
   "outputs": [],
   "source": [
    "confidence_imagem = 0.8\n",
    "def locate_image(imagem,nome_imagem):\n",
    "    while(gui.locateOnScreen(imagem,confidence = confidence_imagem) is None):\n",
    "        continue\n",
    "    [x,y,w,h] = gui.locateOnScreen(imagem,confidence = confidence_imagem)\n",
    "    [x,y,w,h] = [0 if i < 0 else i for i in [x-10,y-10,w+10,h+10]]\n",
    "    df_image.loc[nome_imagem,'Region'] = [x,y,w,h]\n",
    "    df_image.to_csv(os.path.join(os.getcwd(),r\"CSVs\\data_images.csv\"))\n",
    "    return [x,y,w,h]"
   ]
  },
  {
   "cell_type": "code",
   "execution_count": 20,
   "id": "e19c2f46",
   "metadata": {},
   "outputs": [
    {
     "ename": "ValueError",
     "evalue": "Must have equal len keys and value when setting with an iterable",
     "output_type": "error",
     "traceback": [
      "\u001b[1;31m---------------------------------------------------------------------------\u001b[0m",
      "\u001b[1;31mValueError\u001b[0m                                Traceback (most recent call last)",
      "\u001b[1;32m<ipython-input-20-ff1f48424ec8>\u001b[0m in \u001b[0;36m<module>\u001b[1;34m\u001b[0m\n\u001b[0;32m      1\u001b[0m \u001b[0mPVP_start\u001b[0m \u001b[1;33m=\u001b[0m \u001b[0mImage\u001b[0m\u001b[1;33m.\u001b[0m\u001b[0mopen\u001b[0m\u001b[1;33m(\u001b[0m\u001b[0mdf_image\u001b[0m\u001b[1;33m.\u001b[0m\u001b[0mloc\u001b[0m\u001b[1;33m[\u001b[0m\u001b[1;34m'PVP_start'\u001b[0m\u001b[1;33m,\u001b[0m\u001b[1;34m'Path'\u001b[0m\u001b[1;33m]\u001b[0m\u001b[1;33m)\u001b[0m\u001b[1;33m\u001b[0m\u001b[1;33m\u001b[0m\u001b[0m\n\u001b[1;32m----> 2\u001b[1;33m \u001b[0mlocate_image\u001b[0m\u001b[1;33m(\u001b[0m\u001b[0mPVP_start\u001b[0m\u001b[1;33m,\u001b[0m\u001b[1;34m'PVP_start'\u001b[0m\u001b[1;33m)\u001b[0m\u001b[1;33m\u001b[0m\u001b[1;33m\u001b[0m\u001b[0m\n\u001b[0m",
      "\u001b[1;32m<ipython-input-19-de018a764280>\u001b[0m in \u001b[0;36mlocate_image\u001b[1;34m(imagem, nome_imagem)\u001b[0m\n\u001b[0;32m      5\u001b[0m     \u001b[1;33m[\u001b[0m\u001b[0mx\u001b[0m\u001b[1;33m,\u001b[0m\u001b[0my\u001b[0m\u001b[1;33m,\u001b[0m\u001b[0mw\u001b[0m\u001b[1;33m,\u001b[0m\u001b[0mh\u001b[0m\u001b[1;33m]\u001b[0m \u001b[1;33m=\u001b[0m \u001b[0mgui\u001b[0m\u001b[1;33m.\u001b[0m\u001b[0mlocateOnScreen\u001b[0m\u001b[1;33m(\u001b[0m\u001b[0mimagem\u001b[0m\u001b[1;33m,\u001b[0m\u001b[0mconfidence\u001b[0m \u001b[1;33m=\u001b[0m \u001b[0mconfidence_imagem\u001b[0m\u001b[1;33m)\u001b[0m\u001b[1;33m\u001b[0m\u001b[1;33m\u001b[0m\u001b[0m\n\u001b[0;32m      6\u001b[0m     \u001b[1;33m[\u001b[0m\u001b[0mx\u001b[0m\u001b[1;33m,\u001b[0m\u001b[0my\u001b[0m\u001b[1;33m,\u001b[0m\u001b[0mw\u001b[0m\u001b[1;33m,\u001b[0m\u001b[0mh\u001b[0m\u001b[1;33m]\u001b[0m \u001b[1;33m=\u001b[0m \u001b[1;33m[\u001b[0m\u001b[1;36m0\u001b[0m \u001b[1;32mif\u001b[0m \u001b[0mi\u001b[0m \u001b[1;33m<\u001b[0m \u001b[1;36m0\u001b[0m \u001b[1;32melse\u001b[0m \u001b[0mi\u001b[0m \u001b[1;32mfor\u001b[0m \u001b[0mi\u001b[0m \u001b[1;32min\u001b[0m \u001b[1;33m[\u001b[0m\u001b[0mx\u001b[0m\u001b[1;33m-\u001b[0m\u001b[1;36m10\u001b[0m\u001b[1;33m,\u001b[0m\u001b[0my\u001b[0m\u001b[1;33m-\u001b[0m\u001b[1;36m10\u001b[0m\u001b[1;33m,\u001b[0m\u001b[0mw\u001b[0m\u001b[1;33m+\u001b[0m\u001b[1;36m10\u001b[0m\u001b[1;33m,\u001b[0m\u001b[0mh\u001b[0m\u001b[1;33m+\u001b[0m\u001b[1;36m10\u001b[0m\u001b[1;33m]\u001b[0m\u001b[1;33m]\u001b[0m\u001b[1;33m\u001b[0m\u001b[1;33m\u001b[0m\u001b[0m\n\u001b[1;32m----> 7\u001b[1;33m     \u001b[0mdf_image\u001b[0m\u001b[1;33m.\u001b[0m\u001b[0mloc\u001b[0m\u001b[1;33m[\u001b[0m\u001b[0mnome_imagem\u001b[0m\u001b[1;33m,\u001b[0m\u001b[1;34m'Region'\u001b[0m\u001b[1;33m]\u001b[0m \u001b[1;33m=\u001b[0m \u001b[1;33m[\u001b[0m\u001b[0mx\u001b[0m\u001b[1;33m,\u001b[0m\u001b[0my\u001b[0m\u001b[1;33m,\u001b[0m\u001b[0mw\u001b[0m\u001b[1;33m,\u001b[0m\u001b[0mh\u001b[0m\u001b[1;33m]\u001b[0m\u001b[1;33m\u001b[0m\u001b[1;33m\u001b[0m\u001b[0m\n\u001b[0m\u001b[0;32m      8\u001b[0m     \u001b[0mdf_image\u001b[0m\u001b[1;33m.\u001b[0m\u001b[0mto_csv\u001b[0m\u001b[1;33m(\u001b[0m\u001b[0mos\u001b[0m\u001b[1;33m.\u001b[0m\u001b[0mpath\u001b[0m\u001b[1;33m.\u001b[0m\u001b[0mjoin\u001b[0m\u001b[1;33m(\u001b[0m\u001b[0mos\u001b[0m\u001b[1;33m.\u001b[0m\u001b[0mgetcwd\u001b[0m\u001b[1;33m(\u001b[0m\u001b[1;33m)\u001b[0m\u001b[1;33m,\u001b[0m\u001b[1;34mr\"CSVs\\data_images.csv\"\u001b[0m\u001b[1;33m)\u001b[0m\u001b[1;33m)\u001b[0m\u001b[1;33m\u001b[0m\u001b[1;33m\u001b[0m\u001b[0m\n\u001b[0;32m      9\u001b[0m     \u001b[1;32mreturn\u001b[0m \u001b[1;33m[\u001b[0m\u001b[0mx\u001b[0m\u001b[1;33m,\u001b[0m\u001b[0my\u001b[0m\u001b[1;33m,\u001b[0m\u001b[0mw\u001b[0m\u001b[1;33m,\u001b[0m\u001b[0mh\u001b[0m\u001b[1;33m]\u001b[0m\u001b[1;33m\u001b[0m\u001b[1;33m\u001b[0m\u001b[0m\n",
      "\u001b[1;32m~\\anaconda3\\lib\\site-packages\\pandas\\core\\indexing.py\u001b[0m in \u001b[0;36m__setitem__\u001b[1;34m(self, key, value)\u001b[0m\n\u001b[0;32m    690\u001b[0m \u001b[1;33m\u001b[0m\u001b[0m\n\u001b[0;32m    691\u001b[0m         \u001b[0miloc\u001b[0m \u001b[1;33m=\u001b[0m \u001b[0mself\u001b[0m \u001b[1;32mif\u001b[0m \u001b[0mself\u001b[0m\u001b[1;33m.\u001b[0m\u001b[0mname\u001b[0m \u001b[1;33m==\u001b[0m \u001b[1;34m\"iloc\"\u001b[0m \u001b[1;32melse\u001b[0m \u001b[0mself\u001b[0m\u001b[1;33m.\u001b[0m\u001b[0mobj\u001b[0m\u001b[1;33m.\u001b[0m\u001b[0miloc\u001b[0m\u001b[1;33m\u001b[0m\u001b[1;33m\u001b[0m\u001b[0m\n\u001b[1;32m--> 692\u001b[1;33m         \u001b[0miloc\u001b[0m\u001b[1;33m.\u001b[0m\u001b[0m_setitem_with_indexer\u001b[0m\u001b[1;33m(\u001b[0m\u001b[0mindexer\u001b[0m\u001b[1;33m,\u001b[0m \u001b[0mvalue\u001b[0m\u001b[1;33m,\u001b[0m \u001b[0mself\u001b[0m\u001b[1;33m.\u001b[0m\u001b[0mname\u001b[0m\u001b[1;33m)\u001b[0m\u001b[1;33m\u001b[0m\u001b[1;33m\u001b[0m\u001b[0m\n\u001b[0m\u001b[0;32m    693\u001b[0m \u001b[1;33m\u001b[0m\u001b[0m\n\u001b[0;32m    694\u001b[0m     \u001b[1;32mdef\u001b[0m \u001b[0m_validate_key\u001b[0m\u001b[1;33m(\u001b[0m\u001b[0mself\u001b[0m\u001b[1;33m,\u001b[0m \u001b[0mkey\u001b[0m\u001b[1;33m,\u001b[0m \u001b[0maxis\u001b[0m\u001b[1;33m:\u001b[0m \u001b[0mint\u001b[0m\u001b[1;33m)\u001b[0m\u001b[1;33m:\u001b[0m\u001b[1;33m\u001b[0m\u001b[1;33m\u001b[0m\u001b[0m\n",
      "\u001b[1;32m~\\anaconda3\\lib\\site-packages\\pandas\\core\\indexing.py\u001b[0m in \u001b[0;36m_setitem_with_indexer\u001b[1;34m(self, indexer, value, name)\u001b[0m\n\u001b[0;32m   1633\u001b[0m         \u001b[1;32mif\u001b[0m \u001b[0mtake_split_path\u001b[0m\u001b[1;33m:\u001b[0m\u001b[1;33m\u001b[0m\u001b[1;33m\u001b[0m\u001b[0m\n\u001b[0;32m   1634\u001b[0m             \u001b[1;31m# We have to operate column-wise\u001b[0m\u001b[1;33m\u001b[0m\u001b[1;33m\u001b[0m\u001b[1;33m\u001b[0m\u001b[0m\n\u001b[1;32m-> 1635\u001b[1;33m             \u001b[0mself\u001b[0m\u001b[1;33m.\u001b[0m\u001b[0m_setitem_with_indexer_split_path\u001b[0m\u001b[1;33m(\u001b[0m\u001b[0mindexer\u001b[0m\u001b[1;33m,\u001b[0m \u001b[0mvalue\u001b[0m\u001b[1;33m,\u001b[0m \u001b[0mname\u001b[0m\u001b[1;33m)\u001b[0m\u001b[1;33m\u001b[0m\u001b[1;33m\u001b[0m\u001b[0m\n\u001b[0m\u001b[0;32m   1636\u001b[0m         \u001b[1;32melse\u001b[0m\u001b[1;33m:\u001b[0m\u001b[1;33m\u001b[0m\u001b[1;33m\u001b[0m\u001b[0m\n\u001b[0;32m   1637\u001b[0m             \u001b[0mself\u001b[0m\u001b[1;33m.\u001b[0m\u001b[0m_setitem_single_block\u001b[0m\u001b[1;33m(\u001b[0m\u001b[0mindexer\u001b[0m\u001b[1;33m,\u001b[0m \u001b[0mvalue\u001b[0m\u001b[1;33m,\u001b[0m \u001b[0mname\u001b[0m\u001b[1;33m)\u001b[0m\u001b[1;33m\u001b[0m\u001b[1;33m\u001b[0m\u001b[0m\n",
      "\u001b[1;32m~\\anaconda3\\lib\\site-packages\\pandas\\core\\indexing.py\u001b[0m in \u001b[0;36m_setitem_with_indexer_split_path\u001b[1;34m(self, indexer, value, name)\u001b[0m\n\u001b[0;32m   1686\u001b[0m                     \u001b[1;32mreturn\u001b[0m \u001b[0mself\u001b[0m\u001b[1;33m.\u001b[0m\u001b[0m_setitem_with_indexer\u001b[0m\u001b[1;33m(\u001b[0m\u001b[1;33m(\u001b[0m\u001b[0mpi\u001b[0m\u001b[1;33m,\u001b[0m \u001b[0minfo_axis\u001b[0m\u001b[1;33m[\u001b[0m\u001b[1;36m0\u001b[0m\u001b[1;33m]\u001b[0m\u001b[1;33m)\u001b[0m\u001b[1;33m,\u001b[0m \u001b[0mvalue\u001b[0m\u001b[1;33m[\u001b[0m\u001b[1;36m0\u001b[0m\u001b[1;33m]\u001b[0m\u001b[1;33m)\u001b[0m\u001b[1;33m\u001b[0m\u001b[1;33m\u001b[0m\u001b[0m\n\u001b[0;32m   1687\u001b[0m \u001b[1;33m\u001b[0m\u001b[0m\n\u001b[1;32m-> 1688\u001b[1;33m                 raise ValueError(\n\u001b[0m\u001b[0;32m   1689\u001b[0m                     \u001b[1;34m\"Must have equal len keys and value \"\u001b[0m\u001b[1;33m\u001b[0m\u001b[1;33m\u001b[0m\u001b[0m\n\u001b[0;32m   1690\u001b[0m                     \u001b[1;34m\"when setting with an iterable\"\u001b[0m\u001b[1;33m\u001b[0m\u001b[1;33m\u001b[0m\u001b[0m\n",
      "\u001b[1;31mValueError\u001b[0m: Must have equal len keys and value when setting with an iterable"
     ]
    }
   ],
   "source": [
    "PVP_start = Image.open(df_image.loc['PVP_start','Path'])\n",
    "locate_image(PVP_start,'PVP_start')"
   ]
  },
  {
   "cell_type": "code",
   "execution_count": 15,
   "id": "e400a74e",
   "metadata": {},
   "outputs": [
    {
     "data": {
      "text/plain": [
       "Enhance_confirme_enhanceable           NaN\n",
       "Enhance_confirm_enhanced               NaN\n",
       "Enhance_disassemble                    NaN\n",
       "Enhance_enhance                        NaN\n",
       "Enhance_enhanceable                    NaN\n",
       "Enhance_enhance_page                   NaN\n",
       "Enhance_fill                           NaN\n",
       "Enhance_sort                           NaN\n",
       "Enhance_tap_to_continue_disassemble    NaN\n",
       "OpS_battle                             NaN\n",
       "OpS_collect_ops                        NaN\n",
       "OpS_friend                             NaN\n",
       "OpS_guild                              NaN\n",
       "OpS_helena_meta                        NaN\n",
       "OpS_info_analysis_renown_meta          NaN\n",
       "OpS_renown_meta                        NaN\n",
       "OpS_request_support                    NaN\n",
       "OpS_start_battle                       NaN\n",
       "OpS_world                              NaN\n",
       "PVP_confirm                            NaN\n",
       "PVP_continue_after_battle              NaN\n",
       "PVP_continue_merit                     NaN\n",
       "PVP_exercises                          NaN\n",
       "PVP_exercise_pvp                       NaN\n",
       "PVP_gen                                NaN\n",
       "PVP_lv                                 NaN\n",
       "PVP_lv_triangle                        NaN\n",
       "PVP_sortie                             NaN\n",
       "PVP_start                              NaN\n",
       "Retire_confirm                         NaN\n",
       "Retire_confirm_disassemble             NaN\n",
       "Retire_confirm_elite                   NaN\n",
       "Retire_disassemble                     NaN\n",
       "Retire_elite                           NaN\n",
       "Retire_no_retire                       NaN\n",
       "Retire_quick_retire                    NaN\n",
       "Retire_return                          NaN\n",
       "Retire_sort                            NaN\n",
       "Retire_tap                             NaN\n",
       "Stage_12_2_hard                        NaN\n",
       "Stage_affinity                         NaN\n",
       "Stage_auto_search                      NaN\n",
       "Stage_continue                         NaN\n",
       "Stage_stage1                           NaN\n",
       "Stage_stage_2                          NaN\n",
       "Name: Region, dtype: object"
      ]
     },
     "execution_count": 15,
     "metadata": {},
     "output_type": "execute_result"
    }
   ],
   "source": [
    "df_image['Region'].astype(object)"
   ]
  }
 ],
 "metadata": {
  "kernelspec": {
   "display_name": "Python 3",
   "language": "python",
   "name": "python3"
  },
  "language_info": {
   "codemirror_mode": {
    "name": "ipython",
    "version": 3
   },
   "file_extension": ".py",
   "mimetype": "text/x-python",
   "name": "python",
   "nbconvert_exporter": "python",
   "pygments_lexer": "ipython3",
   "version": "3.8.8"
  }
 },
 "nbformat": 4,
 "nbformat_minor": 5
}

{
 "cells": [
  {
   "cell_type": "code",
   "execution_count": 2,
   "id": "0190d4e4",
   "metadata": {},
   "outputs": [],
   "source": [
    "import pyautogui as gui\n",
    "import time\n",
    "import cv2\n",
    "from PIL import Image\n",
    "\n",
    "gui.PAUSE = 0.1"
   ]
  },
  {
   "cell_type": "code",
   "execution_count": 3,
   "id": "e5e48103",
   "metadata": {},
   "outputs": [],
   "source": [
    "bool_retire = 1\n",
    "\n",
    "img_continue = Image.open('C:\\\\Users\\\\EricR\\\\Documents\\\\python\\\\azurlane\\\\continue.png')\n",
    "img_dock = Image.open('C:\\\\Users\\\\EricR\\\\Documents\\\\python\\\\azurlane\\\\dock.png')\n",
    "img_sort = Image.open('C:\\\\Users\\\\EricR\\\\Documents\\\\python\\\\azurlane\\\\sort.png')\n",
    "img_noretire = Image.open('C:\\\\Users\\\\EricR\\\\Documents\\\\python\\\\azurlane\\\\no_retire.png')\n",
    "img_quickretire = Image.open('C:\\\\Users\\\\EricR\\\\Documents\\\\python\\\\azurlane\\\\quick_retire.png')\n",
    "img_confirm = Image.open('C:\\\\Users\\\\EricR\\\\Documents\\\\python\\\\azurlane\\\\confirm.png')\n",
    "img_disassemble = Image.open('C:\\\\Users\\\\EricR\\\\Documents\\\\python\\\\azurlane\\\\disassemble.png')\n",
    "img_return = Image.open('C:\\\\Users\\\\EricR\\\\Documents\\\\python\\\\azurlane\\\\return.png')\n",
    "img_autosearch = Image.open('C:\\\\Users\\\\EricR\\\\Documents\\\\python\\\\azurlane\\\\auto_search.png')\n",
    "img_elite = Image.open('C:\\\\Users\\\\EricR\\\\Documents\\\\python\\\\azurlane\\\\elite.png')\n",
    "img_confirm_elite = Image.open('C:\\\\Users\\\\EricR\\\\Documents\\\\python\\\\azurlane\\\\confirm_elite.png')\n",
    "img_confirm_disassemble = Image.open('C:\\\\Users\\\\EricR\\\\Documents\\\\python\\\\azurlane\\\\confirm_disassemble.png')\n",
    "img_tap = Image.open('C:\\\\Users\\\\EricR\\\\Documents\\\\python\\\\azurlane\\\\tap.png')"
   ]
  },
  {
   "cell_type": "code",
   "execution_count": 47,
   "id": "19382740",
   "metadata": {
    "scrolled": false
   },
   "outputs": [
    {
     "ename": "KeyboardInterrupt",
     "evalue": "",
     "output_type": "error",
     "traceback": [
      "\u001b[1;31m---------------------------------------------------------------------------\u001b[0m",
      "\u001b[1;31mKeyboardInterrupt\u001b[0m                         Traceback (most recent call last)",
      "\u001b[1;32m<ipython-input-47-40c7c8d7cc8b>\u001b[0m in \u001b[0;36m<module>\u001b[1;34m\u001b[0m\n\u001b[0;32m      3\u001b[0m     \u001b[0mtime\u001b[0m\u001b[1;33m.\u001b[0m\u001b[0msleep\u001b[0m\u001b[1;33m(\u001b[0m\u001b[1;36m0.5\u001b[0m\u001b[1;33m)\u001b[0m\u001b[1;33m\u001b[0m\u001b[1;33m\u001b[0m\u001b[0m\n\u001b[0;32m      4\u001b[0m     \u001b[0mbool_dock\u001b[0m \u001b[1;33m=\u001b[0m \u001b[1;33m(\u001b[0m\u001b[1;36m0\u001b[0m \u001b[1;32mif\u001b[0m \u001b[0mgui\u001b[0m\u001b[1;33m.\u001b[0m\u001b[0mlocateCenterOnScreen\u001b[0m\u001b[1;33m(\u001b[0m\u001b[0mimg_dock\u001b[0m\u001b[1;33m,\u001b[0m\u001b[0mconfidence\u001b[0m \u001b[1;33m=\u001b[0m \u001b[1;34m'0.9'\u001b[0m\u001b[1;33m)\u001b[0m \u001b[1;32mis\u001b[0m \u001b[1;32mNone\u001b[0m \u001b[1;32melse\u001b[0m \u001b[1;36m1\u001b[0m\u001b[1;33m)\u001b[0m\u001b[1;33m\u001b[0m\u001b[1;33m\u001b[0m\u001b[0m\n\u001b[1;32m----> 5\u001b[1;33m     \u001b[0mtime\u001b[0m\u001b[1;33m.\u001b[0m\u001b[0msleep\u001b[0m\u001b[1;33m(\u001b[0m\u001b[1;36m0.5\u001b[0m\u001b[1;33m)\u001b[0m\u001b[1;33m\u001b[0m\u001b[1;33m\u001b[0m\u001b[0m\n\u001b[0m\u001b[0;32m      6\u001b[0m     \u001b[1;32mif\u001b[0m \u001b[1;33m(\u001b[0m\u001b[0mbool_continue\u001b[0m\u001b[1;33m)\u001b[0m\u001b[1;33m:\u001b[0m\u001b[1;33m\u001b[0m\u001b[1;33m\u001b[0m\u001b[0m\n\u001b[0;32m      7\u001b[0m         \u001b[0mxc\u001b[0m\u001b[1;33m,\u001b[0m\u001b[0myc\u001b[0m \u001b[1;33m=\u001b[0m \u001b[0mgui\u001b[0m\u001b[1;33m.\u001b[0m\u001b[0mlocateCenterOnScreen\u001b[0m\u001b[1;33m(\u001b[0m\u001b[0mimg_continue\u001b[0m\u001b[1;33m,\u001b[0m\u001b[0mconfidence\u001b[0m \u001b[1;33m=\u001b[0m \u001b[1;34m'0.8'\u001b[0m\u001b[1;33m)\u001b[0m\u001b[1;33m\u001b[0m\u001b[1;33m\u001b[0m\u001b[0m\n",
      "\u001b[1;31mKeyboardInterrupt\u001b[0m: "
     ]
    }
   ],
   "source": [
    "while(1):\n",
    "    bool_continue = (0 if gui.locateCenterOnScreen(img_continue,confidence = '0.8') is None else 1)\n",
    "    time.sleep(0.5)\n",
    "    bool_dock = (0 if gui.locateCenterOnScreen(img_dock,confidence = '0.9') is None else 1)       \n",
    "    time.sleep(0.5)\n",
    "    if (bool_continue):\n",
    "        xc,yc = gui.locateCenterOnScreen(img_continue,confidence = '0.8')\n",
    "        gui.click(x = xc,y=yc,button = 'left')\n",
    "        gui.moveRel(-100,0)\n",
    "    if(bool_dock):\n",
    "        \n",
    "        x_sort,y_sort = gui.locateCenterOnScreen(img_sort,confidence = '0.9')\n",
    "        gui.click(x = x_sort,y = y_sort,button = 'left')\n",
    "        gui.moveRel(100,100)\n",
    "        \n",
    "        while(bool_retire == 1):\n",
    "            while(gui.locateCenterOnScreen(img_quickretire,confidence = '0.8',region = (659,646,178,62)) is None):\n",
    "                continue\n",
    "            x_retire,y_retire = gui.locateCenterOnScreen(img_quickretire,confidence = '0.8',region = (659,646,178,62))\n",
    "            gui.click(x = x_retire,y = y_retire,button = 'left')\n",
    "            gui.moveRel(-100,0)\n",
    "\n",
    "            bool_retire = (1 if gui.locateCenterOnScreen(img_noretire,confidence = '0.6') is None else 0)\n",
    "    \n",
    "            while(gui.locateCenterOnScreen(img_confirm,confidence = '0.8',region = (952,623,147,55)) is None):\n",
    "                continue\n",
    "            x_confirm,y_confirm = gui.locateCenterOnScreen(img_confirm,confidence = '0.8',region = (952,623,147,55))\n",
    "            gui.click(x = x_confirm,y = y_confirm,button = 'left') \n",
    "            while((gui.locateCenterOnScreen(img_tap,confidence = '0.8',region = (590,482,163,40)) is None) and (gui.locateCenterOnScreen(img_elite,confidence = '0.8',region = (583,281,185,50)) is None)):\n",
    "                continue\n",
    "                \n",
    "            if (gui.locateCenterOnScreen(img_elite,confidence = '0.8',region = (583,281,185,50)) is not None): \n",
    "                while(gui.locateCenterOnScreen(img_confirm_elite,confidence = '0.8',region = (730,476,164,65)) is None):\n",
    "                    continue\n",
    "                x_confirm,y_confirm = gui.locateCenterOnScreen(img_confirm_elite,confidence = '0.8',region = (730,476,164,65))\n",
    "                gui.click(x = x_confirm,y = y_confirm,button = 'left') \n",
    "                \n",
    "            while(gui.locateCenterOnScreen(img_tap,confidence = '0.8',region = (590,482,163,40)) is None):\n",
    "                continue\n",
    "            x_tap,y_tap = gui.locateCenterOnScreen(img_tap,confidence = '0.8',region = (590,482,163,40))\n",
    "            gui.click(x = x_tap,y = y_tap,button = 'left')\n",
    "            \n",
    "            while(gui.locateCenterOnScreen(img_confirm_disassemble,confidence = '0.8',region = (894,525,156,58)) is None):\n",
    "                continue\n",
    "            x_confirm,y_confirm = gui.locateCenterOnScreen(img_confirm_disassemble,confidence = '0.8',region = (894,525,156,58))\n",
    "            gui.click(x = x_confirm,y = y_confirm,button = 'left') \n",
    "                       \n",
    "            while(gui.locateCenterOnScreen(img_disassemble,confidence = '0.8',region = (734,551,182,60)) is None):\n",
    "                continue\n",
    "            x_disassemble,y_disassemble = gui.locateCenterOnScreen(img_disassemble,confidence = '0.8',region = (734,551,182,60))\n",
    "            gui.click(x = x_disassemble,y = y_disassemble,button = 'left') \n",
    "            \n",
    "            while(gui.locateCenterOnScreen(img_tap,confidence = '0.8',region = (590,482,163,40)) is None):\n",
    "                continue\n",
    "            x_tap,y_tap = gui.locateCenterOnScreen(img_tap,confidence = '0.8',region = (590,482,163,40))\n",
    "            gui.click(x = x_tap,y = y_tap,button = 'left')\n",
    "            \n",
    "        bool_retire = 1\n",
    "        while(gui.locateCenterOnScreen(img_return,confidence = '0.8',region = (61,45,85,75)) is None):   \n",
    "            continue\n",
    "        x_return,y_return = gui.locateCenterOnScreen(img_return,confidence = '0.8',region = (61,45,85,75))\n",
    "        gui.click(x = x_return,y = y_return,button = 'left')\n",
    "        \n",
    "        x_search,y_search = gui.locateCenterOnScreen(img_autosearch,confidence = '0.8')\n",
    "        gui.click(x = x_search,y = y_search,button = 'left')\n",
    "        gui.click(x = x_search-100,y = y_search,button = 'left')\n",
    "        "
   ]
  },
  {
   "cell_type": "code",
   "execution_count": 33,
   "id": "7cb4d0a4",
   "metadata": {},
   "outputs": [],
   "source": [
    "def locate_images(image):\n",
    "    while(gui.locateOnScreen(image,confidence = '0.8') is None):\n",
    "        continue\n",
    "\n",
    "    x,y,w,h = gui.locateOnScreen(image,confidence = '0.8')\n",
    "    return print(\",region = ({},{},{},{})\".format(x-10,y-10,w+20,h+20))"
   ]
  },
  {
   "cell_type": "code",
   "execution_count": 46,
   "id": "254de95b",
   "metadata": {
    "scrolled": true
   },
   "outputs": [
    {
     "name": "stdout",
     "output_type": "stream",
     "text": [
      ",region = (590,482,163,40)\n"
     ]
    }
   ],
   "source": [
    "locate_images(img_tap)"
   ]
  }
 ],
 "metadata": {
  "kernelspec": {
   "display_name": "Python 3",
   "language": "python",
   "name": "python3"
  },
  "language_info": {
   "codemirror_mode": {
    "name": "ipython",
    "version": 3
   },
   "file_extension": ".py",
   "mimetype": "text/x-python",
   "name": "python",
   "nbconvert_exporter": "python",
   "pygments_lexer": "ipython3",
   "version": "3.8.8"
  }
 },
 "nbformat": 4,
 "nbformat_minor": 5
}

{
 "cells": [
  {
   "cell_type": "code",
   "execution_count": 6,
   "id": "fc6cafc4",
   "metadata": {},
   "outputs": [],
   "source": [
    "import pytesseract\n",
    "import time\n",
    "from PIL import Image, ImageDraw\n",
    "import util_gui\n",
    "import glob\n",
    "import os\n",
    "import time\n",
    "import cv2 as cv\n",
    "import numpy as np\n",
    "import pandas as pd\n",
    "import pyautogui as gui\n",
    "import re"
   ]
  },
  {
   "cell_type": "code",
   "execution_count": 4,
   "id": "6b9e2471",
   "metadata": {
    "scrolled": true
   },
   "outputs": [
    {
     "ename": "SyntaxError",
     "evalue": "invalid syntax (<ipython-input-4-0ea30cdecd19>, line 1)",
     "output_type": "error",
     "traceback": [
      "\u001b[1;36m  File \u001b[1;32m\"<ipython-input-4-0ea30cdecd19>\"\u001b[1;36m, line \u001b[1;32m1\u001b[0m\n\u001b[1;33m    PIL to CV\u001b[0m\n\u001b[1;37m        ^\u001b[0m\n\u001b[1;31mSyntaxError\u001b[0m\u001b[1;31m:\u001b[0m invalid syntax\n"
     ]
    }
   ],
   "source": [
    "PIL to CV\n",
    "image_cv = cv.cvtColor(numpy.array(image_PIL),cv.COLOR_RGB2BGR)\n",
    "CV to PIL\n",
    "image_PIL = cv.cvtColor(image_cv,cv.COLOR_BGR2RGB)\n",
    "image_PIL = Image.fromarray(image_PIL)"
   ]
  }
 ],
 "metadata": {
  "kernelspec": {
   "display_name": "Python 3",
   "language": "python",
   "name": "python3"
  },
  "language_info": {
   "codemirror_mode": {
    "name": "ipython",
    "version": 3
   },
   "file_extension": ".py",
   "mimetype": "text/x-python",
   "name": "python",
   "nbconvert_exporter": "python",
   "pygments_lexer": "ipython3",
   "version": "3.8.8"
  }
 },
 "nbformat": 4,
 "nbformat_minor": 5
}

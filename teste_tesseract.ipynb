{
 "cells": [
  {
   "cell_type": "markdown",
   "id": "19a1c61a",
   "metadata": {},
   "source": [
    "### Teste de Tesseract para PVP"
   ]
  },
  {
   "cell_type": "code",
   "execution_count": 1,
   "id": "2ee9fa84",
   "metadata": {},
   "outputs": [],
   "source": [
    "import pytesseract\n",
    "import time\n",
    "from PIL import Image, ImageDraw\n",
    "import util_gui\n",
    "import glob\n",
    "import os\n",
    "import time\n",
    "import cv2 as cv\n",
    "import numpy as np\n",
    "import pandas as pd\n",
    "import pyautogui as gui\n",
    "import re"
   ]
  },
  {
   "cell_type": "code",
   "execution_count": 2,
   "id": "204b0a62",
   "metadata": {},
   "outputs": [],
   "source": [
    "pytesseract.pytesseract.tesseract_cmd = 'C:\\Program Files\\Tesseract-OCR\\Tesseract'  \n",
    "df_image = pd.read_csv(os.path.join(os.getcwd(),r\"CSVs\\data_images.csv\"),index_col = 'Unnamed: 0')"
   ]
  },
  {
   "cell_type": "code",
   "execution_count": 22,
   "id": "a62614a5",
   "metadata": {},
   "outputs": [],
   "source": [
    "def drawing_rec(findall,image):\n",
    "    #image é do PIL Image.open\n",
    "    #findall é o objeto do return do gui.locateall\n",
    "    image_copy = image.copy()\n",
    "    if(isinstance(findall[0],list)):\n",
    "        for i in range(len(findall)):\n",
    "            x1_f = findall[i][0]\n",
    "            x2_f = findall[i][2]\n",
    "            y1_f = findall[i][1]\n",
    "            y2_f = findall[i][3]\n",
    "            ImageDraw.Draw(image_copy).rectangle([x1_f,y1_f,x2_f,y2_f],fill=None,outline=\"red\")\n",
    "    else:\n",
    "        print('not list')\n",
    "        for i in range(len(findall)):\n",
    "            x1_f = findall[i].left\n",
    "            x2_f = findall[i].left+findall[i].width\n",
    "            y1_f = findall[i].top\n",
    "            y2_f = findall[i].top+findall[i].height\n",
    "            ImageDraw.Draw(image_copy).rectangle([x1_f,y1_f,x2_f,y2_f],fill=None,outline=\"red\")\n",
    "    image_copy.show()\n",
    "    return None"
   ]
  },
  {
   "cell_type": "code",
   "execution_count": 47,
   "id": "850f724d",
   "metadata": {
    "scrolled": true
   },
   "outputs": [
    {
     "name": "stdout",
     "output_type": "stream",
     "text": [
      "[['17821', '16222'], ['16360', '14161'], ['103', '14846'], ['15832', '14939']]\n"
     ]
    },
    {
     "ename": "IndexError",
     "evalue": "list index out of range",
     "output_type": "error",
     "traceback": [
      "\u001b[1;31m---------------------------------------------------------------------------\u001b[0m",
      "\u001b[1;31mIndexError\u001b[0m                                Traceback (most recent call last)",
      "\u001b[1;32m<ipython-input-47-8b509e5d524f>\u001b[0m in \u001b[0;36m<module>\u001b[1;34m\u001b[0m\n\u001b[0;32m     30\u001b[0m     \u001b[0mx2\u001b[0m \u001b[1;33m=\u001b[0m \u001b[0mlv_triangle\u001b[0m\u001b[1;33m[\u001b[0m\u001b[0mi\u001b[0m\u001b[1;33m]\u001b[0m\u001b[1;33m.\u001b[0m\u001b[0mleft\u001b[0m\u001b[1;33m+\u001b[0m\u001b[1;36m3\u001b[0m\u001b[1;33m\u001b[0m\u001b[1;33m\u001b[0m\u001b[0m\n\u001b[0;32m     31\u001b[0m     \u001b[0my2\u001b[0m \u001b[1;33m=\u001b[0m \u001b[0mlv_image\u001b[0m\u001b[1;33m[\u001b[0m\u001b[0mi\u001b[0m\u001b[1;33m]\u001b[0m\u001b[1;33m.\u001b[0m\u001b[0mtop\u001b[0m \u001b[1;33m+\u001b[0m \u001b[0mlv_image\u001b[0m\u001b[1;33m[\u001b[0m\u001b[0mi\u001b[0m\u001b[1;33m]\u001b[0m\u001b[1;33m.\u001b[0m\u001b[0mheight\u001b[0m\u001b[1;33m+\u001b[0m\u001b[1;36m2\u001b[0m\u001b[1;33m\u001b[0m\u001b[1;33m\u001b[0m\u001b[0m\n\u001b[1;32m---> 32\u001b[1;33m     \u001b[0mstring\u001b[0m \u001b[1;33m=\u001b[0m \u001b[0mpytesseract\u001b[0m\u001b[1;33m.\u001b[0m\u001b[0mimage_to_string\u001b[0m\u001b[1;33m(\u001b[0m\u001b[0mpvp\u001b[0m\u001b[1;33m.\u001b[0m\u001b[0mcrop\u001b[0m\u001b[1;33m(\u001b[0m\u001b[1;33m[\u001b[0m\u001b[0mx1\u001b[0m\u001b[1;33m,\u001b[0m\u001b[0my1\u001b[0m\u001b[1;33m,\u001b[0m\u001b[0mx2\u001b[0m\u001b[1;33m,\u001b[0m\u001b[0my2\u001b[0m\u001b[1;33m]\u001b[0m\u001b[1;33m)\u001b[0m\u001b[1;33m)\u001b[0m\u001b[1;33m.\u001b[0m\u001b[0msplitlines\u001b[0m\u001b[1;33m(\u001b[0m\u001b[1;33m)\u001b[0m\u001b[1;33m[\u001b[0m\u001b[1;36m0\u001b[0m\u001b[1;33m]\u001b[0m\u001b[1;33m\u001b[0m\u001b[1;33m\u001b[0m\u001b[0m\n\u001b[0m\u001b[0;32m     33\u001b[0m     \u001b[0mlv_pos\u001b[0m\u001b[1;33m.\u001b[0m\u001b[0mappend\u001b[0m\u001b[1;33m(\u001b[0m\u001b[1;33m[\u001b[0m\u001b[0mx1\u001b[0m\u001b[1;33m,\u001b[0m\u001b[0my1\u001b[0m\u001b[1;33m,\u001b[0m\u001b[0mx2\u001b[0m\u001b[1;33m,\u001b[0m\u001b[0my2\u001b[0m\u001b[1;33m]\u001b[0m\u001b[1;33m)\u001b[0m\u001b[1;33m\u001b[0m\u001b[1;33m\u001b[0m\u001b[0m\n\u001b[0;32m     34\u001b[0m \u001b[1;33m\u001b[0m\u001b[0m\n",
      "\u001b[1;31mIndexError\u001b[0m: list index out of range"
     ]
    }
   ],
   "source": [
    "image_gen = Image.open(df_image['Path']['PVP_gen'])\n",
    "image_lv = Image.open(df_image['Path']['PVP_lv'])\n",
    "image_lv_triangle = Image.open(df_image['Path']['PVP_lv_triangle'])\n",
    "\n",
    "fp_pos = []\n",
    "lv_image = []\n",
    "lv_triangle = []\n",
    "lv_lista = []\n",
    "lv_pos = []\n",
    "fp_lista = []\n",
    "re_pattern_lvl = \"([\\w]*[.])|([a-zA-Z]*)\"\n",
    "util_gui.wait(image_gen)\n",
    "pvp = gui.screenshot()\n",
    "# pvp = Image.open(\"C:\\\\Users\\\\EricR\\\\Desktop\\\\exemplo_pvp_2.png\")\n",
    "# pvp = Image.open(\"C:\\\\Users\\\\EricR\\\\Desktop\\\\exemplo_pvp.png\")\n",
    "for i ,coords in enumerate(gui.locateAll(image_gen,pvp,confidence = 0.85,region = (0,0,1080,420))):\n",
    "    x,y,w,h = coords\n",
    "    x,y,w,h = x-2,y+h+2,x+55,y+h+60\n",
    "    fp_pos.append([x,y,w,h])\n",
    "    string = pytesseract.image_to_string(pvp.crop(fp_pos[i]),config=\"-c tessedit_char_whitelist=0123456789\")\n",
    "    fp_lista.append(string.splitlines())\n",
    "print(fp_lista)\n",
    "\n",
    "lv_image = list(gui.locateAll(image_lv,pvp,grayscale=True,confidence = 0.93,region = (0,0,1080,420)))\n",
    "lv_triangle = list(gui.locateAll(image_lv_triangle,pvp,confidence = 0.90,region = (0,0,1080,420)))\n",
    "\n",
    "for i in range(len(lv_image)):\n",
    "    x1 = lv_image[i].left\n",
    "    y1 = lv_image[i].top+1\n",
    "    x2 = lv_triangle[i].left+3\n",
    "    y2 = lv_image[i].top + lv_image[i].height+2\n",
    "    string = pytesseract.image_to_string(pvp.crop([x1,y1,x2,y2])).splitlines()[0]\n",
    "    lv_pos.append([x1,y1,x2,y2])\n",
    "    \n",
    "    lv_lista.append(re.sub(re_pattern_lvl,'',string))\n",
    "    lv_lista = list(map(int,lv_lista))"
   ]
  },
  {
   "cell_type": "code",
   "execution_count": 43,
   "id": "e465fdb3",
   "metadata": {},
   "outputs": [],
   "source": [
    "drawing_rec(fp_pos,pvp)"
   ]
  },
  {
   "cell_type": "code",
   "execution_count": 60,
   "id": "e90e51bb",
   "metadata": {},
   "outputs": [],
   "source": [
    "cv_pvp = cv.cvtColor(np.array(pvp), cv.COLOR_RGB2GRAY)\n",
    "th = cv.adaptiveThreshold(cv_pvp,255,cv.ADAPTIVE_THRESH_GAUSSIAN_C,cv.THRESH_BINARY,11,2)"
   ]
  },
  {
   "cell_type": "code",
   "execution_count": 61,
   "id": "ae99f3cd",
   "metadata": {},
   "outputs": [
    {
     "data": {
      "text/plain": [
       "-1"
      ]
     },
     "execution_count": 61,
     "metadata": {},
     "output_type": "execute_result"
    }
   ],
   "source": [
    "cv.imshow('oi',th)\n",
    "cv.waitKey(0)"
   ]
  },
  {
   "cell_type": "code",
   "execution_count": null,
   "id": "81ae9a30",
   "metadata": {},
   "outputs": [],
   "source": [
    "pytesseract.image_to_string(pvp.crop(fp_pos[i]),config=\"-c tessedit_char_whitelist=0123456789\")"
   ]
  },
  {
   "cell_type": "code",
   "execution_count": null,
   "id": "99bdafda",
   "metadata": {
    "scrolled": true
   },
   "outputs": [],
   "source": [
    "#Check for fp_lista integrity(i.e. possui 4 membros, cada um com 2 valores)\n",
    "#Check for 4 membros\n",
    "fp_lista_media = []\n",
    "if len(fp_lista) != 4:\n",
    "    print(f\"{len(fp_lista)} membros apenas\")\n",
    "for i in fp_lista:\n",
    "    #Check for both Main and Vanguard values (deve possuir 2)\n",
    "    if len(i) != 2:\n",
    "        print(f\"Nao possui ambos valroes de Main e Vanguard\")\n",
    "    #Gera valores medios de fp\n",
    "    fp_lista_media.append(sum([int(x) for x in i])//2)"
   ]
  },
  {
   "cell_type": "code",
   "execution_count": null,
   "id": "24633e81",
   "metadata": {},
   "outputs": [],
   "source": [
    "chosen_player = 0\n",
    "if fp_lista_media[0] < 17000 and lv_lista[0] > 120:\n",
    "    chosen_player = 0\n",
    "elif fp_lista_media[1] < 17000 and lv_lista[1] > 120:\n",
    "    chosen_player = 1"
   ]
  },
  {
   "cell_type": "code",
   "execution_count": null,
   "id": "81cd6e09",
   "metadata": {},
   "outputs": [],
   "source": [
    "time.sleep(1)\n",
    "gui.click(fp_pos[chosen_player][0],fp_pos[chosen_player][1],button='left')"
   ]
  },
  {
   "cell_type": "code",
   "execution_count": null,
   "id": "7e3be3d6",
   "metadata": {},
   "outputs": [],
   "source": [
    "confidence_imagem = 0.8\n",
    "def locate_image(imagem,nome_imagem):\n",
    "    while(gui.locateOnScreen(imagem,confidence = confidence_imagem) is None):\n",
    "        continue\n",
    "    [x,y,w,h] = gui.locateOnScreen(imagem,confidence = confidence_imagem)\n",
    "    [x,y,w,h] = [0 if i < 0 else i for i in [x-10,y-10,w+10,h+10]]\n",
    "    df_image.loc[nome_imagem,'Region'] = [x,y,w,h]\n",
    "    df_image.to_csv(os.path.join(os.getcwd(),r\"CSVs\\data_images.csv\"))\n",
    "    return [x,y,w,h]"
   ]
  },
  {
   "cell_type": "code",
   "execution_count": null,
   "id": "e19c2f46",
   "metadata": {},
   "outputs": [],
   "source": [
    "PVP_start = Image.open(df_image.loc['PVP_start','Path'])\n",
    "util_gui.locate_image(PVP_start,'PVP_start')"
   ]
  },
  {
   "cell_type": "code",
   "execution_count": 15,
   "id": "e400a74e",
   "metadata": {},
   "outputs": [
    {
     "data": {
      "text/plain": [
       "Enhance_confirme_enhanceable           NaN\n",
       "Enhance_confirm_enhanced               NaN\n",
       "Enhance_disassemble                    NaN\n",
       "Enhance_enhance                        NaN\n",
       "Enhance_enhanceable                    NaN\n",
       "Enhance_enhance_page                   NaN\n",
       "Enhance_fill                           NaN\n",
       "Enhance_sort                           NaN\n",
       "Enhance_tap_to_continue_disassemble    NaN\n",
       "OpS_battle                             NaN\n",
       "OpS_collect_ops                        NaN\n",
       "OpS_friend                             NaN\n",
       "OpS_guild                              NaN\n",
       "OpS_helena_meta                        NaN\n",
       "OpS_info_analysis_renown_meta          NaN\n",
       "OpS_renown_meta                        NaN\n",
       "OpS_request_support                    NaN\n",
       "OpS_start_battle                       NaN\n",
       "OpS_world                              NaN\n",
       "PVP_confirm                            NaN\n",
       "PVP_continue_after_battle              NaN\n",
       "PVP_continue_merit                     NaN\n",
       "PVP_exercises                          NaN\n",
       "PVP_exercise_pvp                       NaN\n",
       "PVP_gen                                NaN\n",
       "PVP_lv                                 NaN\n",
       "PVP_lv_triangle                        NaN\n",
       "PVP_sortie                             NaN\n",
       "PVP_start                              NaN\n",
       "Retire_confirm                         NaN\n",
       "Retire_confirm_disassemble             NaN\n",
       "Retire_confirm_elite                   NaN\n",
       "Retire_disassemble                     NaN\n",
       "Retire_elite                           NaN\n",
       "Retire_no_retire                       NaN\n",
       "Retire_quick_retire                    NaN\n",
       "Retire_return                          NaN\n",
       "Retire_sort                            NaN\n",
       "Retire_tap                             NaN\n",
       "Stage_12_2_hard                        NaN\n",
       "Stage_affinity                         NaN\n",
       "Stage_auto_search                      NaN\n",
       "Stage_continue                         NaN\n",
       "Stage_stage1                           NaN\n",
       "Stage_stage_2                          NaN\n",
       "Name: Region, dtype: object"
      ]
     },
     "execution_count": 15,
     "metadata": {},
     "output_type": "execute_result"
    }
   ],
   "source": [
    "df_image['Region'].astype(object)"
   ]
  }
 ],
 "metadata": {
  "kernelspec": {
   "display_name": "Python 3",
   "language": "python",
   "name": "python3"
  },
  "language_info": {
   "codemirror_mode": {
    "name": "ipython",
    "version": 3
   },
   "file_extension": ".py",
   "mimetype": "text/x-python",
   "name": "python",
   "nbconvert_exporter": "python",
   "pygments_lexer": "ipython3",
   "version": "3.8.8"
  }
 },
 "nbformat": 4,
 "nbformat_minor": 5
}

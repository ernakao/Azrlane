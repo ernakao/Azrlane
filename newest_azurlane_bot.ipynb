{
 "cells": [
  {
   "cell_type": "code",
   "execution_count": null,
   "id": "0190d4e4",
   "metadata": {},
   "outputs": [],
   "source": [
    "import pyautogui as gui\n",
    "import time\n",
    "import cv2\n",
    "from PIL import Image\n",
    "import pandas as pd\n",
    "import numpy as np\n",
    "import os\n",
    "import glob\n",
    "import util_gui\n",
    "import re"
   ]
  },
  {
   "cell_type": "code",
   "execution_count": 17,
   "id": "cc639770",
   "metadata": {
    "scrolled": true
   },
   "outputs": [
    {
     "name": "stdout",
     "output_type": "stream",
     "text": [
      "???????????????????s\n"
     ]
    }
   ],
   "source": [
    "#Creating/Resetting the Image DataFrame\n",
    "a = input('???????????????????')\n",
    "if a:\n",
    "    lista_path_imagens = [i for i in glob.iglob(os.path.join(os.getcwd(),r\"Images\\**\\*.png\"))]\n",
    "    lista_variable_names = list(map(lambda x:os.path.split(os.path.dirname(x))[-1]+\"_\"+os.path.basename(x)[:-4],lista_path_imagens))\n",
    "    df_image = pd.DataFrame(index = lista_variable_names,columns = ['Path','Category','Region'],dtype = object)\n",
    "    df_image['Path'] = lista_path_imagens\n",
    "    df_image['Category'] = list(map(lambda x: os.path.split(os.path.dirname(x))[-1],lista_path_imagens))\n",
    "    df_image.to_csv(os.path.join(os.getcwd(),r\"CSVs\\data_images.csv\"))"
   ]
  },
  {
   "cell_type": "code",
   "execution_count": 18,
   "id": "138434e0",
   "metadata": {},
   "outputs": [],
   "source": [
    "#Updating df_image\n",
    "lista_path_imagens = [i for i in glob.iglob(os.path.join(os.getcwd(),r\"Images\\**\\*.png\"))]\n",
    "lista_variable_names = list(map(lambda x:os.path.split(os.path.dirname(x))[-1]+\"_\"+os.path.basename(x)[:-4],lista_path_imagens))\n",
    "#Adding new row\n",
    "df_image = pd.read_csv(os.path.join(os.getcwd(),r\"CSVs\\data_images.csv\"),index_col = 'Unnamed: 0')\n",
    "for i,name in enumerate(lista_variable_names): \n",
    "    if name not in df_image.index:\n",
    "        print(f'Adding new row: {name}')\n",
    "        df_image.loc[name] = df_image.iloc[0]*0\n",
    "        df_image.loc[name,'Path'] = lista_path_imagens[i]\n",
    "        df_image.loc[name,'Category'] = os.path.split(os.path.dirname(lista_path_imagens[i]))[-1]\n",
    "#Deleting existing row\n",
    "for name in df_image.index:\n",
    "    if name not in lista_variable_names:\n",
    "        print(f'Dropping row: {name}')\n",
    "        df_image.drop(index=name,inplace=True)\n",
    "df_image.to_csv(os.path.join(os.getcwd(),r\"CSVs\\data_images.csv\"))"
   ]
  },
  {
   "cell_type": "code",
   "execution_count": null,
   "id": "d9e4e152",
   "metadata": {},
   "outputs": [],
   "source": [
    "df_image = pd.read_csv(os.path.join(os.getcwd(),r\"CSVs\\data_images.csv\"),index_col = 'Unnamed: 0')"
   ]
  },
  {
   "cell_type": "code",
   "execution_count": null,
   "id": "29afb86b",
   "metadata": {
    "scrolled": true
   },
   "outputs": [],
   "source": [
    "#Dicionario de df_time > para quando for ter de usar para stages diferentes, com df_time diferentes\n",
    "dict_df_time = {} \n",
    "\n",
    "#Gerar o time_XX.csv\n",
    "\n",
    "re_stage = 'Stage_stage.*\\.png' #Regex para achar o nome dos Stages, dentro da pasta Stage\n",
    "#Procura matches com re_stage no index da df quando df['Category'] == 'Stage'\n",
    "#Os matches sao colocados em uma lista e extraidos quando o match for diferente de None\n",
    "#Obs: re.search retorna MatchObject se der match, None se nao der match\n",
    "#Dos MatchObject, sao extraidos o .group(), que retorna a parte da string que deu match (do ponto do match até o final da string)\n",
    "lista_stages = [x.group() for x in list(map(lambda x: re.search(re_stage,x),df_image[df_image['Category'] == 'Stage'].index)) if x != None]\n",
    "lista_csvs = glob.glob(os.path.join(os.getcwd(),r\"CSVs\\time_\"+\"*.csv\"))\n",
    "\n",
    "#Mostra as Stages para o usuario, e pede o input da Stage selecionada\n",
    "print(\"Available Stages: \")\n",
    "for i in lista_stages:\n",
    "    print(i[6:-4])\n",
    "stage_chosen = input(\"Choose the Stage to be run: \")\n",
    "\n",
    "#Se houver um csv_time para essa stage: Le-se o csv para um df dentro do dict_df_time na chave stage_chosen\n",
    "#Se nao: Cria-se um df novo e o insere no dict_df_time na chave stage_chosen\n",
    "if('time_'+stage_chosen in lista_csvs):\n",
    "    dict_df_time[stage_chosen] = pd.read_csv(os.path.join(os.getcwd(),rf\"CSVs\\{stage_chosen}.csv\"),index_col = \"Unnamed: 0\")\n",
    "else:\n",
    "    dict_df_time[stage_chosen] = pd.DataFrame(columns = [\"Time\"])"
   ]
  },
  {
   "cell_type": "code",
   "execution_count": null,
   "id": "ca20d71c",
   "metadata": {},
   "outputs": [],
   "source": [
    "df_image"
   ]
  },
  {
   "cell_type": "code",
   "execution_count": null,
   "id": "76307e51",
   "metadata": {
    "scrolled": true
   },
   "outputs": [],
   "source": [
    "#Appending time values to current \"df_time\"\n",
    "dict_df_time[stage_chosen].loc[len(dict_df_time[stage_chosen].index)] = time.time() - contador"
   ]
  },
  {
   "cell_type": "code",
   "execution_count": null,
   "id": "1009f8c6",
   "metadata": {},
   "outputs": [],
   "source": [
    "#Updating the time_XX.csv\n",
    "df_time.to_csv(os.path.join(os.getcwd(),fr\"CSVs\\time_{stage}.csv\"))"
   ]
  }
 ],
 "metadata": {
  "kernelspec": {
   "display_name": "Python 3",
   "language": "python",
   "name": "python3"
  },
  "language_info": {
   "codemirror_mode": {
    "name": "ipython",
    "version": 3
   },
   "file_extension": ".py",
   "mimetype": "text/x-python",
   "name": "python",
   "nbconvert_exporter": "python",
   "pygments_lexer": "ipython3",
   "version": "3.8.8"
  }
 },
 "nbformat": 4,
 "nbformat_minor": 5
}
